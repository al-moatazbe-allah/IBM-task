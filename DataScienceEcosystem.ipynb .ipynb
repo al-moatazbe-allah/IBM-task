{
 "cells": [
  {
   "cell_type": "code",
   "execution_count": 8,
   "id": "4e8e0e8a-6530-42c0-a346-6242efa09b43",
   "metadata": {},
   "outputs": [
    {
     "name": "stdout",
     "output_type": "stream",
     "text": [
      "Data Science Tools and Ecosystem\n"
     ]
    }
   ],
   "source": [
    "#Data Science Tools and Ecosystem\n",
    "print(\"Data Science Tools and Ecosystem\")"
   ]
  },
  {
   "cell_type": "code",
   "execution_count": 3,
   "id": "ef58a649-ffd1-444b-bf6a-820563567fcf",
   "metadata": {},
   "outputs": [
    {
     "name": "stdout",
     "output_type": "stream",
     "text": [
      "In this notebook, Data Science Tools and Ecosystem are summarized.\n"
     ]
    }
   ],
   "source": [
    "#In this notebook, Data Science Tools and Ecosystem are summarized."
   ]
  },
  {
   "cell_type": "code",
   "execution_count": 4,
   "id": "dff958e8-c2bf-491a-bca1-60df8292f804",
   "metadata": {
    "tags": []
   },
   "outputs": [
    {
     "name": "stdout",
     "output_type": "stream",
     "text": [
      "['R', 'Python', 'SQL', 'Julia']\n"
     ]
    }
   ],
   "source": [
    "#Some of the popular languages that Data Scientists use are:\n",
    "x=[\"R\",\"Python\",\"SQL\",\"Julia\"]\n",
    "print(x)"
   ]
  },
  {
   "cell_type": "code",
   "execution_count": 5,
   "id": "9603d84c-fe6a-4e2e-a4d8-7ffeb977d077",
   "metadata": {
    "tags": []
   },
   "outputs": [
    {
     "name": "stdout",
     "output_type": "stream",
     "text": [
      "['TensorFlow', 'caret', 'matplotib']\n"
     ]
    }
   ],
   "source": [
    "#Some of the commonly used libraries used by Data Scientists include:\n",
    "y=[\"TensorFlow\",\"caret\",\"matplotib\"]\n",
    "print(y)"
   ]
  },
  {
   "cell_type": "code",
   "execution_count": 6,
   "id": "54d1bca4-7ec5-48b6-970e-3d3d7bc542c0",
   "metadata": {
    "tags": []
   },
   "outputs": [
    {
     "name": "stdout",
     "output_type": "stream",
     "text": [
      "[['gitHub'], ['anaconda'], ['googleCaleb']]\n"
     ]
    }
   ],
   "source": [
    "#Data Science Tools\n",
    "z=[[\"gitHub\"],[\"anaconda\"],[\"googleCaleb\"]]\n",
    "print(z)"
   ]
  },
  {
   "cell_type": "code",
   "execution_count": null,
   "id": "5ca03912-8965-42a5-9d8d-9cead520e7a7",
   "metadata": {},
   "outputs": [],
   "source": [
    "#Below are a few examples of evaluating arithmetic expressions in Python\n",
    "e=['*','+','-','/','%']"
   ]
  }
 ],
 "metadata": {
  "kernelspec": {
   "display_name": "Python",
   "language": "python",
   "name": "conda-env-python-py"
  },
  "language_info": {
   "codemirror_mode": {
    "name": "ipython",
    "version": 3
   },
   "file_extension": ".py",
   "mimetype": "text/x-python",
   "name": "python",
   "nbconvert_exporter": "python",
   "pygments_lexer": "ipython3",
   "version": "3.7.12"
  }
 },
 "nbformat": 4,
 "nbformat_minor": 5
}
